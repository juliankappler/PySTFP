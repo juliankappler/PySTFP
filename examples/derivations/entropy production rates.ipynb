{
 "cells": [
  {
   "cell_type": "markdown",
   "metadata": {},
   "source": [
    "## Introduction\n",
    "\n",
    "We here calculate the various entropy production (rates) discussed in Appendix D of the paper \"Short-time Fokker-Planck propagator beyond the Gaussian approximation\" (arXiv: http://arxiv.org/abs/2405.18381), which we in the following refer to as Ref. [1]."
   ]
  },
  {
   "cell_type": "code",
   "execution_count": 1,
   "metadata": {},
   "outputs": [],
   "source": [
    "import sympy as sp\n",
    "import helper_functions as hf"
   ]
  },
  {
   "cell_type": "code",
   "execution_count": 2,
   "metadata": {},
   "outputs": [],
   "source": [
    "epsilon = sp.symbols(r'\\epsilon',real=True,positive=True)\n",
    "\n",
    " # basic units of length, time, and diffusivity\n",
    "L = sp.symbols('L',real=True,positive=True)\n",
    "T = sp.symbols('T',real=True,positive=True)\n",
    "D_0 = L**2 / T\n",
    "D_x0 = sp.symbols(r'D(x_{0})',real=True,positive=True)\n",
    "\n",
    "# other symbolic variables\n",
    "dt = sp.symbols('\\Delta{t}',real=True,nonnegative=True)\n",
    "x = sp.symbols('x',real=True)\n",
    "xDL = sp.symbols(r'\\tilde{x}',real=True)\n",
    "tDL = sp.symbols(r'\\tilde{t}',real=True,nonnegative=True)\n",
    "epsilon = sp.symbols(r'\\epsilon',real=True,positive=True)\n",
    "#\n",
    "\n",
    "tD = sp.symbols(r'\\tau_D',real=True,positive=True)"
   ]
  },
  {
   "cell_type": "code",
   "execution_count": 3,
   "metadata": {},
   "outputs": [],
   "source": [
    "N_max = 13\n",
    "Dk = []\n",
    "for i in range(N_max):\n",
    "    Dk.append(sp.symbols('D_{0}'.format(i)))\n",
    "Ak = []\n",
    "for i in range(N_max):\n",
    "    Ak.append(sp.symbols('A_{0}'.format(i)))"
   ]
  },
  {
   "cell_type": "code",
   "execution_count": 4,
   "metadata": {},
   "outputs": [],
   "source": [
    "Qk = []\n",
    "for i in range(N_max):\n",
    "    Qk.append(\n",
    "        sp.Function('Q_{0}'.format(i))(xDL)\n",
    "        )"
   ]
  },
  {
   "cell_type": "code",
   "execution_count": 5,
   "metadata": {},
   "outputs": [],
   "source": [
    "D = 1 + sum([Dk[i] * epsilon**i * xDL**i for i in range(1,N_max)])\n",
    "a = sum([Ak[i] * epsilon**i * xDL**i for i in range(N_max)])\n",
    "P_prefac = sum([Qk[i] * epsilon**i for i in range(N_max)]) \n",
    "P0 = sp.exp(-xDL**2/2)/sp.sqrt(2*sp.pi)"
   ]
  },
  {
   "cell_type": "markdown",
   "metadata": {},
   "source": [
    "## Medium entropy production rate\n",
    "\n",
    "We now perturbatively calculate the dimensionless medium entropy production rate, as defined in Eq. (D12) of Ref. [1]."
   ]
  },
  {
   "cell_type": "markdown",
   "metadata": {},
   "source": [
    "The integrand of the expression is\n",
    "\n",
    "\\begin{align}\n",
    "\\tilde{P}_0 \\cdot ( 1 + \\tilde{\\epsilon} \\tilde{\\mathcal{Q}}_1 + \\tilde{\\epsilon}^2 \\tilde{\\mathcal{Q}}_2 + ) \\cdot \n",
    "\\frac{1}{\\tilde{D}}\n",
    "\\cdot\n",
    "\\left[ \n",
    "    \\left( \\tilde{a} - \\frac{1}{\\tilde{\\epsilon}}\\partial_{\\tilde{x}}\\tilde{D}\n",
    "    \\right)^2\n",
    "    + \n",
    "    \\frac{\\tilde{D}}{\\tilde{\\epsilon}}\n",
    "    \\partial_{\\tilde{x}}\n",
    "    \\left( \\tilde{a} - \\frac{1}{\\tilde{\\epsilon}}\\partial_{\\tilde{x}}\\tilde{D}\n",
    "    \\right)\n",
    "\\right].\n",
    "\\end{align}\n",
    "\n",
    "We for now consider the three factors that multiply $\\tilde{P}_0$ here,\n",
    "and for each of the three factors calculate a power-series expansion in powers of\n",
    "$\\tilde{\\epsilon}$. We then multply the power-series expansions an"
   ]
  },
  {
   "cell_type": "code",
   "execution_count": 6,
   "metadata": {},
   "outputs": [],
   "source": [
    "def get_series_coefficients(list_of_factors,\n",
    "                            N_max=3, # maximal order in epsilon we consider\n",
    "                            ):\n",
    "    #\n",
    "    # for each of the factors, calculate the corresponding power series\n",
    "    factors_series = []\n",
    "    for i,factor in enumerate(list_of_factors):\n",
    "        factors_series.append(sp.series(factor,epsilon,0,N_max+1).removeO())\n",
    "    #\n",
    "    # multiply out the power-series expansions\n",
    "    series = 1\n",
    "    for factor in factors_series:\n",
    "        series = series * factor\n",
    "    #\n",
    "    #\n",
    "    # from the resulting expression, determine the power series coefficients\n",
    "    # at each power in epsilon.\n",
    "    # Here we use that for a power series \n",
    "    #       f(x) = a_0 + a_1 * x**1 + a_2 * x**2 + ..\n",
    "    # we have\n",
    "    #       a_n = d^n f / dx^n |_{x = 0} / n!\n",
    "    # Evaluating the derivatives seems to be faster than than using sp.series\n",
    "    series_coefficients = []\n",
    "    #\n",
    "    # zero-th order\n",
    "    current_derivative = series\n",
    "    series_coefficients.append( current_derivative.subs(epsilon,0) )\n",
    "    #\n",
    "    # higher orders\n",
    "    for i in range(1,N_max+1):\n",
    "        #\n",
    "        current_derivative = sp.diff(current_derivative,epsilon)/i\n",
    "        series_coefficients.append( current_derivative.subs(epsilon,0) )\n",
    "        #\n",
    "    return series_coefficients\n",
    "\n",
    "\n",
    "term0 = sp.expand((epsilon * a - sp.diff(D,xDL,1))/epsilon)\n",
    "list_of_factors = [\n",
    "    P_prefac ,\n",
    "    sp.expand(term0**2 + D*sp.expand(sp.diff(term0,xDL,1)/epsilon)),\n",
    "    1/D\n",
    "    ]\n",
    "\n",
    "dS_m_dt_integrand_prefactors = get_series_coefficients(\n",
    "                                        list_of_factors=list_of_factors,\n",
    "                                        N_max=8)\n",
    "# dS_m_dt_integrand_prefactors[k] * P0 = integrand of integral Eq. (D12)\n",
    "# at order epsilon**k"
   ]
  },
  {
   "cell_type": "markdown",
   "metadata": {},
   "source": [
    "Now to evaluate the integral Eq. (D12) at each order of $\\tilde{\\epsilon}^k$,\n",
    "we need to substitute the explicit expressions for the $\\tilde{\\mathcal{Q}}_k$.\n",
    "We here obtain those from PySTFP, but one could also load them directly from the\n",
    "output of the jupyter notebook *propagators and moments.ipynb*, which is in \n",
    "this very folder."
   ]
  },
  {
   "cell_type": "code",
   "execution_count": 7,
   "metadata": {},
   "outputs": [],
   "source": [
    "from PySTFP import PySTFP"
   ]
  },
  {
   "cell_type": "code",
   "execution_count": 8,
   "metadata": {},
   "outputs": [],
   "source": [
    "def substitute_local_variables(expr,\n",
    "                            remote):\n",
    "    #\n",
    "    expr = expr.subs(remote.L,L)\n",
    "    expr = expr.subs(remote.T,T)\n",
    "    expr = expr.subs(remote.t,dt)\n",
    "    expr = expr.subs(remote.x,x)\n",
    "    expr = expr.subs(remote.xDL,xDL)\n",
    "    expr = expr.subs(remote.tDL,tDL)\n",
    "    expr = expr.subs(remote.epsilon,epsilon)\n",
    "    for k in range(min(len(Dk),len(remote.Dk))):\n",
    "        expr = expr.subs(remote.Dk[k],Dk[k])\n",
    "        expr = expr.subs(remote.Ak[k],Ak[k])\n",
    "    return expr \n",
    "\n",
    "p = PySTFP()\n",
    "\n",
    "Q_dict = {}\n",
    "for key, value in p.Q_dict.items():\n",
    "    if key == 0:\n",
    "        Q_dict[key] = value\n",
    "    else:\n",
    "        Q_dict[key] = substitute_local_variables(expr=value,remote=p)"
   ]
  },
  {
   "cell_type": "markdown",
   "metadata": {},
   "source": [
    "At each order $\\tilde{\\epsilon}^k$, the integrand in Eq. (D12) is a Gaussian multiplied with a polynomial. To efficiently evaluate this, we want to only calculate integrals of the form monomial times Gaussian, and want to sum over the results. \n",
    "\n",
    "Thus, we want to get the polynomial coefficients of the integrand in Eq. (D12)."
   ]
  },
  {
   "cell_type": "code",
   "execution_count": 9,
   "metadata": {},
   "outputs": [],
   "source": [
    "def get_polynomial_coefficients(expr,variable,\n",
    "                        N_max=100):\n",
    "    #\n",
    "    coefficients = []\n",
    "    #\n",
    "    current_derivative = expr\n",
    "    coefficients.append(current_derivative.subs(variable,0))\n",
    "    #\n",
    "    for i in range(1,N_max):\n",
    "        current_derivative = sp.diff(current_derivative,variable,1)/i\n",
    "        coefficients.append(current_derivative.subs(variable,0))\n",
    "        #\n",
    "    #    \n",
    "    coefficients_reversed = coefficients[::-1]\n",
    "    for i,e in enumerate(coefficients_reversed):\n",
    "        if e != 0:\n",
    "            coefficients = (coefficients_reversed[i:])[::-1]\n",
    "            break\n",
    "    #\n",
    "    return coefficients\n",
    "    "
   ]
  },
  {
   "cell_type": "code",
   "execution_count": 10,
   "metadata": {},
   "outputs": [],
   "source": [
    "def evaluate_integral(integrand_prefactor):\n",
    "    # We want to evaluate the integral with integrand:\n",
    "    # integrand = integrand_prefactor * P0\n",
    "    global P0 # Gaussian\n",
    "    #\n",
    "    expr = integrand_prefactor\n",
    "    #\n",
    "    # substitute perturbative expressions for \\tilde{\\mathcal{Q}}_k\n",
    "    for key, value in Q_dict.items():\n",
    "        expr = expr.subs(Qk[key],value)\n",
    "    expr = expr.doit()\n",
    "    #\n",
    "    # get polynomial coefficients\n",
    "    coeffs = get_polynomial_coefficients(expr=sp.expand(expr),\n",
    "                                variable=xDL)\n",
    "    # coeffs[0] is coefficient of lowest power\n",
    "    n_poly = len(coeffs) # highest power is n_poly - 1\n",
    "    #\n",
    "    # evaluate integrals for each monomial, and sum over the results\n",
    "    integral = 0\n",
    "    for j,coeff in enumerate(coeffs):\n",
    "        #\n",
    "        integral += coeff * sp.integrate( xDL**j * P0, \n",
    "                                (xDL,-sp.oo,sp.oo))\n",
    "    #\n",
    "    return integral\n"
   ]
  },
  {
   "cell_type": "code",
   "execution_count": 11,
   "metadata": {},
   "outputs": [
    {
     "name": "stdout",
     "output_type": "stream",
     "text": [
      "9 of 9    \r"
     ]
    }
   ],
   "source": [
    "dS_m_dt_coefficients = {}\n",
    "\n",
    "for i, current_prefactor in enumerate(dS_m_dt_integrand_prefactors):\n",
    "    print(i+1,'of',len(dS_m_dt_integrand_prefactors),'   ',end='\\r')\n",
    "    #\n",
    "    integral = evaluate_integral(integrand_prefactor=current_prefactor)\n",
    "    #\n",
    "    dS_m_dt_coefficients[i] = sp.expand(integral)"
   ]
  },
  {
   "cell_type": "code",
   "execution_count": 12,
   "metadata": {},
   "outputs": [],
   "source": [
    "with open('dS_m_dt.py','w') as f:\n",
    "    f.write('''\n",
    "import sympy\n",
    "\n",
    "N_max = {N_max}\n",
    "\n",
    "Dk = sympy.symbols('D_0:%d'%N_max)\n",
    "Ak = sympy.symbols('A_0:%d'%N_max)\n",
    "\n",
    "dS_m_dt_dict = {{}}\n",
    "\n",
    "'''.format(N_max = N_max)\n",
    "    )\n",
    "    #\n",
    "    for i,current_coefficient in (dS_m_dt_coefficients).items():\n",
    "        #\n",
    "        if i < 0:\n",
    "            if (current_coefficient != 0):\n",
    "                raise RuntimeError(\"Medium entropy production contains \"\\\n",
    "                        \"diverging term.\")\n",
    "            continue\n",
    "        #\n",
    "        f.write('dS_m_dt_dict[{0}] = '.format(i))\n",
    "        f.write(hf.sympy_expression_to_string(current_coefficient))\n",
    "        f.write('\\n\\n\\n') \n",
    "    #"
   ]
  },
  {
   "cell_type": "markdown",
   "metadata": {},
   "source": [
    "## Total entropy production rate"
   ]
  },
  {
   "cell_type": "markdown",
   "metadata": {},
   "source": [
    "The total entropy production rate is given by the integral in Eq. (D7) of Ref. [1]. \n",
    "The integrand is given as a product\n",
    "\n",
    "\\begin{align}\n",
    "\\frac{1}{\\tilde{\\epsilon}^2} \\cdot \\frac{1}{\\tilde{D}} \\cdot \\frac{1}{\\tilde{P}} \\cdot (\\tilde{\\epsilon}^2 \\tilde{j}) \\cdot (\\tilde{\\epsilon}^2 \\tilde{j})\n",
    "\\end{align}\n",
    "\n",
    "with \n",
    "\n",
    "\\begin{align}\n",
    "\\tilde{\\epsilon^2} \\tilde{j} &= \\tilde{\\epsilon} \\tilde{a} \\tilde{P} - \\partial_{\\tilde{x}}(\\tilde{D}\\tilde{P}).\n",
    "\\end{align}\n",
    "\n",
    "We ignore the $\\tilde{x}$-independent prefactor $1/\\tilde{\\epsilon}^2$ in the integrand for now (this is added back in the module PySTFP, when the total entropy production rate is evaluated using the power series coefficients we calculate here).\n",
    "We then proceed as for the medium entropy production rate above."
   ]
  },
  {
   "cell_type": "code",
   "execution_count": 13,
   "metadata": {},
   "outputs": [],
   "source": [
    "P = P_prefac*P0\n",
    "\n",
    "eps_sq_j= sp.expand((epsilon * a * P- sp.diff(D*P,xDL,1)))\n",
    "\n",
    "list_of_factors = [1/D,\n",
    "1/P,\n",
    "eps_sq_j,\n",
    "eps_sq_j,\n",
    "]\n",
    "\n",
    "dS_tot_dt_integrands = get_series_coefficients(\n",
    "                                        list_of_factors=list_of_factors,\n",
    "                                        N_max=8)"
   ]
  },
  {
   "cell_type": "code",
   "execution_count": 14,
   "metadata": {},
   "outputs": [],
   "source": [
    "# we want the prefactors of the integrals, so we divide by P0\n",
    "dS_tot_dt_integrand_prefactors = []\n",
    "\n",
    "for integrand in dS_tot_dt_integrands:\n",
    "    dS_tot_dt_integrand_prefactors.append ( \n",
    "         sp.expand( sp.expand(integrand) / P0 )\n",
    "    )"
   ]
  },
  {
   "cell_type": "code",
   "execution_count": 15,
   "metadata": {},
   "outputs": [
    {
     "name": "stdout",
     "output_type": "stream",
     "text": [
      "9 of 9    \r"
     ]
    }
   ],
   "source": [
    "# calculate the integrals at each order of epsilon**i\n",
    "dS_tot_dt_coefficients = {}\n",
    "\n",
    "for i, current_prefactor in enumerate(dS_tot_dt_integrand_prefactors):\n",
    "    print(i+1,'of',len(dS_tot_dt_integrand_prefactors),'   ',end='\\r')\n",
    "    #\n",
    "    integral = evaluate_integral(integrand_prefactor=current_prefactor)\n",
    "    #\n",
    "    dS_tot_dt_coefficients[i] = sp.expand(integral)"
   ]
  },
  {
   "cell_type": "code",
   "execution_count": 16,
   "metadata": {},
   "outputs": [],
   "source": [
    "with open('dS_tot_dt.py','w') as f:\n",
    "    f.write('''\n",
    "import sympy\n",
    "\n",
    "N_max = {N_max}\n",
    "\n",
    "Dk = sympy.symbols('D_0:%d'%N_max)\n",
    "Ak = sympy.symbols('A_0:%d'%N_max)\n",
    "\n",
    "dS_tot_dt_dict = {{}}\n",
    "\n",
    "'''.format(N_max = N_max)\n",
    "    )\n",
    "    #\n",
    "    for i,current_coefficient in (dS_tot_dt_coefficients).items():\n",
    "        #\n",
    "        f.write('dS_tot_dt_dict[{0}] = '.format(i))\n",
    "        f.write(hf.sympy_expression_to_string(current_coefficient))\n",
    "        f.write('\\n\\n\\n') \n",
    "    #"
   ]
  },
  {
   "cell_type": "markdown",
   "metadata": {},
   "source": [
    "## Gibbs entropy\n",
    "\n",
    "To perturbatively evaluate the Gibbs entropy, we use Eq. (D10) of Ref. [1], which reads\n",
    "\n",
    "\\begin{align}\n",
    "\\dot{\\tilde{S}}^{\\mathrm{tot}} &=\n",
    " \\frac{1}{2}\\ln\\left[ {2 \\pi} \\tilde{\\epsilon}^2 \\right]\n",
    "+\\frac{1}{2}\\int_{-\\infty}^{\\infty}dx\\,\\tilde{P}x^2\n",
    "-\\int_{-\\infty}^{\\infty}dx\\,\\tilde{P}\\ln \\left[ 1 \n",
    "+ \\tilde{\\epsilon} \\tilde{\\mathcal{Q}}_1\n",
    "+ \\tilde{\\epsilon}^2 \\tilde{\\mathcal{Q}}_2\n",
    "+ ...\n",
    "\\right]\n",
    "\\end{align}\n",
    "\n",
    "Since the first term has $\\ln \\tilde{\\epsilon}^2$, we do not consider it for the perturbative calculation, but add it to our final result below. \n",
    "\n",
    "For the other terms, we proceed as for the medium entropy production rate above:\n"
   ]
  },
  {
   "cell_type": "code",
   "execution_count": 17,
   "metadata": {},
   "outputs": [],
   "source": [
    "list_of_factors = [\n",
    "    P_prefac ,\n",
    "    xDL**2/2  - sp.ln(P_prefac)\n",
    "    ]\n",
    "\n",
    "S_Gibbs_integrand_prefactors = get_series_coefficients(\n",
    "                                        list_of_factors=list_of_factors,\n",
    "                                        N_max=8)"
   ]
  },
  {
   "cell_type": "code",
   "execution_count": 18,
   "metadata": {},
   "outputs": [
    {
     "name": "stdout",
     "output_type": "stream",
     "text": [
      "9 of 9    \r"
     ]
    }
   ],
   "source": [
    "S_Gibbs_coefficients = {}\n",
    "\n",
    "for i, current_prefactor in enumerate(S_Gibbs_integrand_prefactors):\n",
    "    print(i+1,'of',len(S_Gibbs_integrand_prefactors),'   ',end='\\r')\n",
    "    #\n",
    "    integral = evaluate_integral(integrand_prefactor=current_prefactor)\n",
    "    #\n",
    "    S_Gibbs_coefficients[i] = sp.expand(integral)"
   ]
  },
  {
   "cell_type": "code",
   "execution_count": 19,
   "metadata": {},
   "outputs": [],
   "source": [
    "S_Gibbs_coefficients[0] += sp.log(2*sp.pi*epsilon**2)/2"
   ]
  },
  {
   "cell_type": "code",
   "execution_count": 20,
   "metadata": {},
   "outputs": [
    {
     "data": {
      "text/latex": [
       "$\\displaystyle \\frac{\\log{\\left(2 \\pi \\epsilon^{2} \\right)}}{2} + \\frac{1}{2}$"
      ],
      "text/plain": [
       "log(2*pi*\\epsilon**2)/2 + 1/2"
      ]
     },
     "execution_count": 20,
     "metadata": {},
     "output_type": "execute_result"
    }
   ],
   "source": [
    "S_Gibbs_coefficients[0]"
   ]
  },
  {
   "cell_type": "code",
   "execution_count": 21,
   "metadata": {},
   "outputs": [],
   "source": [
    "with open('S_Gibbs.py','w') as f:\n",
    "    f.write('''\n",
    "import sympy\n",
    "\n",
    "N_max = {N_max}\n",
    "\n",
    "epsilon = sympy.symbols(r'\\epsilon', real=True, positive=True)\n",
    "Dk = sympy.symbols('D_0:%d'%N_max)\n",
    "Ak = sympy.symbols('A_0:%d'%N_max)\n",
    "\n",
    "S_Gibbs_dict = {{}}\n",
    "\n",
    "'''.format(N_max = N_max)\n",
    "    )\n",
    "    #\n",
    "    for i,S_coefficient in (S_Gibbs_coefficients).items():\n",
    "        #\n",
    "        f.write('S_Gibbs_dict[{0}] = '.format(i))\n",
    "        f.write(hf.sympy_expression_to_string(S_coefficient))\n",
    "        f.write('\\n\\n\\n')\n",
    "    #"
   ]
  },
  {
   "cell_type": "code",
   "execution_count": null,
   "metadata": {},
   "outputs": [],
   "source": []
  }
 ],
 "metadata": {
  "kernelspec": {
   "display_name": "snowflake",
   "language": "python",
   "name": "python3"
  },
  "language_info": {
   "codemirror_mode": {
    "name": "ipython",
    "version": 3
   },
   "file_extension": ".py",
   "mimetype": "text/x-python",
   "name": "python",
   "nbconvert_exporter": "python",
   "pygments_lexer": "ipython3",
   "version": "3.10.8"
  }
 },
 "nbformat": 4,
 "nbformat_minor": 2
}
