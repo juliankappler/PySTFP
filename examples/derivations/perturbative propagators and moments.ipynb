{
 "cells": [
  {
   "cell_type": "code",
   "execution_count": 1,
   "metadata": {
    "ExecuteTime": {
     "end_time": "2022-07-15T10:50:29.606590Z",
     "start_time": "2022-07-15T10:50:26.144409Z"
    }
   },
   "outputs": [],
   "source": [
    "#%reset -f\n",
    "#%matplotlib inline\n",
    "import numpy as np\n",
    "import matplotlib.pyplot as plt\n",
    "import scipy.integrate\n",
    "import sympy as sp\n",
    "import helper_functions as hf"
   ]
  },
  {
   "cell_type": "markdown",
   "metadata": {},
   "source": [
    "## Introduction\n",
    "\n",
    "This notebook contains the sympy code to derive the explicit analytical perturbative expressions discussed in [add reference once the paper is on arXiv], which in the following we refer to as Ref. [1].\n",
    "\n",
    "In this notebook, we symbolically calculate\n",
    "* the coefficients of the normalization-preserving propagator (NPP; Eq. (23) in Ref. [1])\n",
    "* the coefficients of the positivity-preserving propagator (PPP; Eq. (41) in Ref. [1]), and\n",
    "* the first few perturbative moments based on the NPP (Eq. (51) in Ref. [1]).\n",
    "\n",
    "We save the symbolic results to text files, which are stored in the current folder. \n",
    "\n",
    "The files we generate here are in the exact form that the module PySTFP uses. This means that after modifying the code below (e.g. to calculate higher order terms), and saving the results, one can use the text files to modify e.g. the maximal order perturbation theory available in PySTFP. For this, the text files generated here need to be copied the folder **PySTFP/sympy_definitions** (and then the module needs to be re-installed)."
   ]
  },
  {
   "cell_type": "markdown",
   "metadata": {},
   "source": [
    "## Normalization-preserving propagator (NPP)\n",
    "\n",
    "We want to calculate the coefficients $\\tilde{\\mathcal{Q}}_k$ from Eq. (23) of Ref. [1]."
   ]
  },
  {
   "cell_type": "markdown",
   "metadata": {},
   "source": [
    "For this, we recursively solve Eq. (30) of Ref. [1] with increasing $k=0, 1, 2, ..$."
   ]
  },
  {
   "cell_type": "code",
   "execution_count": 2,
   "metadata": {
    "ExecuteTime": {
     "end_time": "2022-07-15T10:50:32.054819Z",
     "start_time": "2022-07-15T10:50:30.619061Z"
    }
   },
   "outputs": [],
   "source": [
    "As = sp.symbols('A_0:%d'%15,real=True)\n",
    "Ds = sp.symbols('D_0:%d'%15,real=True)\n",
    "\n",
    "x, y = sp.symbols('x y',real=True)\n",
    "n = sp.Symbol('n', integer=True ,nonzero=True)\n",
    "R = sp.Symbol(r'\\tilde{R}', positive=True,nonzero=True)\n",
    "epsilon = sp.Symbol('\\epsilon', positive=True,nonzero=True)\n",
    "\n",
    "P0 = 1/sp.sqrt(2*sp.pi) * sp.exp(-x**2/2) # this is Eq. (24) of Ref. [1]"
   ]
  },
  {
   "cell_type": "code",
   "execution_count": 3,
   "metadata": {
    "ExecuteTime": {
     "end_time": "2022-07-15T10:50:32.800880Z",
     "start_time": "2022-07-15T10:50:32.795078Z"
    }
   },
   "outputs": [],
   "source": [
    "# For k = 0, we have Q_0 = 1:\n",
    "list_of_Q = [1]"
   ]
  },
  {
   "cell_type": "markdown",
   "metadata": {},
   "source": [
    "We first implement the solution for a monomial inhomogeneity\n",
    "\n",
    "\\begin{equation}\n",
    "\\partial_{\\tilde{x}}^2 f\n",
    "- \\tilde{x} \\partial_{\\tilde{x}} f\n",
    "- k f\n",
    "= \\tilde{x}^l,\n",
    "\\end{equation}\n",
    "\n",
    "which is given in Eq. (A2) of Ref. [1]"
   ]
  },
  {
   "cell_type": "code",
   "execution_count": 4,
   "metadata": {
    "ExecuteTime": {
     "end_time": "2022-07-15T10:50:33.695346Z",
     "start_time": "2022-07-15T10:50:33.106189Z"
    }
   },
   "outputs": [
    {
     "data": {
      "text/latex": [
       "$\\displaystyle - \\frac{x^{4}}{8} - \\frac{x^{2}}{4} - \\frac{1}{8}$"
      ],
      "text/plain": [
       "-x**4/8 - x**2/4 - 1/8"
      ]
     },
     "execution_count": 4,
     "metadata": {},
     "output_type": "execute_result"
    }
   ],
   "source": [
    "def get_inhomogenous_solution_for_monomial(k, # order of polynomial (prefactor of last term on right-hand side)\n",
    "                                           l, # power on right-hand side\n",
    "                                           verbose=False):\n",
    "    #\n",
    "    Q_coeffs = sp.symbols('Q_0:%d'%(l+1))\n",
    "    #\n",
    "    Q_poly = 0\n",
    "    for i in range(l+1):\n",
    "        Q_poly += Q_coeffs[i]*x**i\n",
    "    #\n",
    "    LHS = sp.simplify( sp.diff(Q_poly,x,2)  \\\n",
    "                        - x*sp.diff(Q_poly,x,1) \\\n",
    "                        - k*Q_poly )\n",
    "    RHS = x**l\n",
    "    solution =  sp.solve(LHS-RHS, Q_coeffs)\n",
    "    #\n",
    "    if len(solution) == 1:\n",
    "        if verbose:\n",
    "            print(\"Solution is constant polynomial\")\n",
    "        return solution[0]\n",
    "    #\n",
    "    for i in range(l+1):\n",
    "        try:\n",
    "            Q_poly = Q_poly.subs(Q_coeffs[i],solution[Q_coeffs[i]])\n",
    "        except KeyError:\n",
    "            print(\"Warning: Key {0} is not specified. Using 0.\".format(Q_coeffs[i]))\n",
    "            Q_poly = Q_poly.subs(Q_coeffs[i],0)\n",
    "    return Q_poly\n",
    "\n",
    "test = get_inhomogenous_solution_for_monomial(k=4,l=4)\n",
    "test"
   ]
  },
  {
   "cell_type": "markdown",
   "metadata": {},
   "source": [
    "We now implement functions to solve Eq. (30) at order $k$, assuming we have solved it to order $k-1$."
   ]
  },
  {
   "cell_type": "code",
   "execution_count": 5,
   "metadata": {
    "ExecuteTime": {
     "end_time": "2022-07-15T10:50:35.808651Z",
     "start_time": "2022-07-15T10:50:35.794654Z"
    }
   },
   "outputs": [],
   "source": [
    "# Now we implement the calculation of the right-hand side of Eq. (30), \n",
    "# for known list_of_Q = [Q_0, Q_1, .., Q_{k-1}] with k elements\n",
    "def get_polynomial_on_RHS( # RHS = right-hand side\n",
    "                        list_of_Q,\n",
    "                        verbose=False):\n",
    "    #\n",
    "    k = len(list_of_Q) # at the k-th iteraction, we have len(list_of_Q) = k\n",
    "    #\n",
    "    RHS = 0\n",
    "    #\n",
    "    # First term\n",
    "    for l in range(0,k):\n",
    "        RHS += As[l] * ( \n",
    "                    sp.diff(x**l * list_of_Q[k-1-l], x, 1) \n",
    "                    - x**(l+1) * list_of_Q[k-1-l]\n",
    "                         )\n",
    "    # Second term\n",
    "    for l in range(1,k+1):\n",
    "        RHS -= Ds[l] * (\n",
    "                    sp.diff(x**l * list_of_Q[k-l], x, 2) \n",
    "                    - 2 * x * sp.diff(x**l * list_of_Q[k-l], x, 1) \n",
    "                    + x**l * ( x**2 - 1 ) * list_of_Q[k-l]\n",
    "                     )\n",
    "    #\n",
    "    RHS = sp.expand(RHS)\n",
    "    #\n",
    "    return RHS\n",
    "\n",
    "# get polynomial coefficients from a sympy expression\n",
    "def get_polynomial_coefficients(input_polynomial):\n",
    "    poly_coeffs = sp.Poly(input_polynomial,x).all_coeffs()\n",
    "    poly_coeffs = poly_coeffs[::-1]\n",
    "    return poly_coeffs # [0] = lowest order\n",
    "\n",
    "# Solve Eq. (30) at order k for a polynomial\n",
    "# RHS_coeffs[0] * x**0 + RHS_coeffs[1] * x**1 + .. \n",
    "# on the right-hand side\n",
    "def get_current_Q(k, # \n",
    "                  RHS_coeffs # coefficients of polynomial on RHS\n",
    "                 ):\n",
    "    #\n",
    "    current_Q = 0\n",
    "    #\n",
    "    for i,cur_coeff in enumerate(RHS_coeffs):\n",
    "        if cur_coeff != 0: # if cur_coeff, then we don't need to add anything\n",
    "            # to current_Q\n",
    "            cur_poly = get_inhomogenous_solution_for_monomial(k=k,l=i)\n",
    "            current_Q += cur_coeff * cur_poly\n",
    "    #\n",
    "    return sp.expand(current_Q)"
   ]
  },
  {
   "cell_type": "code",
   "execution_count": 6,
   "metadata": {},
   "outputs": [
    {
     "name": "stdout",
     "output_type": "stream",
     "text": [
      "k = 1\n",
      "Solution validated\n",
      "integral = 0\n",
      "k = 2\n",
      "Solution validated\n",
      "integral = 0\n",
      "k = 3\n",
      "Solution validated\n",
      "integral = 0\n",
      "k = 4\n",
      "Solution validated\n",
      "integral = 0\n",
      "k = 5\n",
      "Solution validated\n",
      "integral = 0\n",
      "k = 6\n",
      "Solution validated\n",
      "integral = 0\n",
      "k = 7\n",
      "Solution validated\n",
      "integral = 0\n",
      "k = 8\n",
      "Solution validated\n",
      "integral = 0\n"
     ]
    }
   ],
   "source": [
    "def get_next_order(check_solution=True,\n",
    "                evaluate_integral=True):\n",
    "    global list_of_Q # we will append to this list\n",
    "    #\n",
    "    # the order we get is equal to the current length of list_of_Q:\n",
    "    k = len(list_of_Q) #\n",
    "    print('k =',k)\n",
    "    # for example, if len(list_of_Q) == 1, then list_of_Q = [1]\n",
    "    # and only contains the zeroth-order result.\n",
    "    #\n",
    "    # get polynomial on the right-hand side of the equation\n",
    "    polynomial_on_RHS = get_polynomial_on_RHS(list_of_Q=list_of_Q)\n",
    "    #\n",
    "    polynomial_coefficients = get_polynomial_coefficients(polynomial_on_RHS)\n",
    "    #\n",
    "    Q = get_current_Q(k=k,\n",
    "                   RHS_coeffs=polynomial_coefficients)\n",
    "    #\n",
    "    if check_solution:\n",
    "        result_of_check = sp.simplify( sp.diff(Q,x,2) \\\n",
    "             - x*sp.diff(Q,x,1) \\\n",
    "             - k*Q  \\\n",
    "             - polynomial_on_RHS)\n",
    "        if result_of_check == 0:\n",
    "            print(\"Solution validated\")\n",
    "        else:\n",
    "            raise RuntimeError(\"Solution invalid\")\n",
    "    #\n",
    "    if evaluate_integral:\n",
    "        integral = 0\n",
    "        D0_ = sp.symbols('D_0',real=True,positive=True) # dummy\n",
    "        for i,e in enumerate(Q.args):\n",
    "            current_expression = e*P0\n",
    "            #\n",
    "            current_expression = current_expression.subs(Ds[0],D0_)\n",
    "            current_integral = sp.simplify(sp.integrate(current_expression,\n",
    "                                    (x,-sp.oo,sp.oo)).doit())\n",
    "            current_integral = current_integral.subs(D0_,Ds[0])\n",
    "            #\n",
    "            integral += current_integral\n",
    "            integral = sp.expand(integral)\n",
    "        print(\"integral = {0}\".format(integral))\n",
    "    #\n",
    "    list_of_Q.append(Q)\n",
    "    #\n",
    "\n",
    "list_of_Q = [1]\n",
    "for i in range(8):\n",
    "    get_next_order()"
   ]
  },
  {
   "cell_type": "markdown",
   "metadata": {},
   "source": [
    "For the $\\tilde{\\mathcal{Q}}_k$ that we calculated, we find out \n",
    "what the largest appearing index $l$ for $\\tilde{\\mathcal{A}}_l$, $\\tilde{\\mathcal{D}}_l$ is:"
   ]
  },
  {
   "cell_type": "code",
   "execution_count": 7,
   "metadata": {},
   "outputs": [
    {
     "name": "stdout",
     "output_type": "stream",
     "text": [
      "8 7\n"
     ]
    },
    {
     "data": {
      "text/plain": [
       "9"
      ]
     },
     "execution_count": 7,
     "metadata": {},
     "output_type": "execute_result"
    }
   ],
   "source": [
    "N_max_D = hf.get_maximal_D(list_of_Q[-1])\n",
    "N_max_A = hf.get_maximal_A(list_of_Q[-1])\n",
    "print(N_max_D,N_max_A)\n",
    "\n",
    "N_max = max( N_max_D,N_max_A ) + 1\n",
    "N_max"
   ]
  },
  {
   "cell_type": "markdown",
   "metadata": {},
   "source": [
    "We save the normalization-preserving propagator to a text file"
   ]
  },
  {
   "cell_type": "code",
   "execution_count": 8,
   "metadata": {
    "ExecuteTime": {
     "end_time": "2021-12-06T15:46:18.005505Z",
     "start_time": "2021-12-06T15:46:09.804078Z"
    }
   },
   "outputs": [],
   "source": [
    "with open('normalization_preserving_propagator.py','w') as f:\n",
    "    f.write('''\n",
    "import sympy\n",
    "\n",
    "# highest appearing values: Dk[{N_max_D}], Ak[{N_max_A}]\n",
    "\n",
    "N_max = {N_max}\n",
    "\n",
    "Dk = sympy.symbols('D_0:%d'%N_max)\n",
    "Ak = sympy.symbols('A_0:%d'%N_max)\n",
    "xDL = sympy.symbols('\\\\tilde{{x}}',real=True)\n",
    "epsilon = sympy.symbols('\\epsilon',real=True,nonnegative=True)\n",
    "\n",
    "P0 = {P0}\n",
    "\n",
    "Q_dict = {{}}\n",
    "\n",
    "'''.format(\n",
    "    N_max_D=N_max_D,\n",
    "    N_max_A=N_max_A,\n",
    "    N_max = N_max,\n",
    "    P0=hf.sympy_expression_to_string(P0))\n",
    "    )\n",
    "    #\n",
    "    for i,e in enumerate(list_of_Q):\n",
    "        f.write('Q_dict[{0}] = '.format(i))\n",
    "        f.write(hf.sympy_expression_to_string(e))\n",
    "        f.write('\\n\\n')        \n",
    "    #\n",
    "    f.write('''\n",
    "    \n",
    "P0_lambda = sympy.lambdify( (Dk[0],xDL) , P0)\n",
    "\n",
    "Q_lambda_dict = {}\n",
    "for i,item in Q_dict.items():\n",
    "\tQ_lambda_dict[i] = sympy.lambdify( (Dk,Ak,xDL), item)\n",
    "\n",
    "Q_epsilon_sum = 0\n",
    "for i,term in Q_dict.items():\n",
    "\tQ_epsilon_sum = Q_epsilon_sum + epsilon**i * term\n",
    "Q_epsilon_sum_lambda = sympy.lambdify( (Dk,Ak,xDL,epsilon), Q_epsilon_sum)\n",
    "\n",
    "    ''')\n",
    "    #"
   ]
  },
  {
   "cell_type": "markdown",
   "metadata": {},
   "source": [
    "## Positivity-preserving propagator\n",
    "\n",
    "To calculate the positivity-preserving propagator, Eq. (41) in Ref. [1], \n",
    "we first define the power series\n",
    "\n",
    "\\begin{align}\n",
    "1 + \\epsilon \\tilde{\\mathcal{Q}}_1 \n",
    " + \\epsilon^2 \\tilde{\\mathcal{Q}}_2 \n",
    " + ...\n",
    "\\end{align}\n",
    "\n",
    "with new sympy symbols $\\tilde{\\mathcal{Q}}_k$. We then calculate the\n",
    " series Eq. (41), and only in the end substitute \n",
    "for the $\\tilde{\\mathcal{Q}}_k$ the explicit expressions that we have \n",
    "calculated in the context of the NPP above."
   ]
  },
  {
   "cell_type": "code",
   "execution_count": 9,
   "metadata": {},
   "outputs": [
    {
     "data": {
      "text/latex": [
       "$\\displaystyle Q_{1} \\epsilon + Q_{2} \\epsilon^{2} + Q_{3} \\epsilon^{3} + Q_{4} \\epsilon^{4} + Q_{5} \\epsilon^{5} + Q_{6} \\epsilon^{6} + Q_{7} \\epsilon^{7} + Q_{8} \\epsilon^{8} + 1$"
      ],
      "text/plain": [
       "Q_1*\\epsilon + Q_2*\\epsilon**2 + Q_3*\\epsilon**3 + Q_4*\\epsilon**4 + Q_5*\\epsilon**5 + Q_6*\\epsilon**6 + Q_7*\\epsilon**7 + Q_8*\\epsilon**8 + 1"
      ]
     },
     "execution_count": 9,
     "metadata": {},
     "output_type": "execute_result"
    }
   ],
   "source": [
    "Q_symbols = sp.symbols('Q_0:%d'%len(list_of_Q))\n",
    "\n",
    "perturbation = 1\n",
    "for i,current_Q in enumerate(Q_symbols):\n",
    "    if i == 0:\n",
    "        continue\n",
    "    perturbation += epsilon**i * current_Q\n",
    "\n",
    "perturbation"
   ]
  },
  {
   "cell_type": "code",
   "execution_count": 10,
   "metadata": {},
   "outputs": [],
   "source": [
    "# perturbation = exp(log(perturbation))\n",
    "\n",
    "exp_perturbation = sp.log(perturbation)\n",
    "exp_perturbation = sp.series(exp_perturbation,\n",
    "                        epsilon,0,len(list_of_Q)).removeO()\n",
    "exp_perturbation = sp.expand(exp_perturbation)"
   ]
  },
  {
   "cell_type": "code",
   "execution_count": 11,
   "metadata": {},
   "outputs": [],
   "source": [
    "exp_perturbation_coefficients = sp.Poly(exp_perturbation,epsilon).all_coeffs()[::-1]"
   ]
  },
  {
   "cell_type": "code",
   "execution_count": 12,
   "metadata": {},
   "outputs": [],
   "source": [
    "exp_perturbation_coefficients_substituted = []\n",
    "\n",
    "for term in exp_perturbation_coefficients:\n",
    "    #\n",
    "    for i,Q in enumerate(list_of_Q):\n",
    "        #\n",
    "        term = term.subs(Q_symbols[i],Q)\n",
    "    #\n",
    "    exp_perturbation_coefficients_substituted.append(sp.expand(term))"
   ]
  },
  {
   "cell_type": "markdown",
   "metadata": {},
   "source": [
    "Save the result"
   ]
  },
  {
   "cell_type": "code",
   "execution_count": 13,
   "metadata": {},
   "outputs": [],
   "source": [
    "with open('positivity_preserving_propagator.py','w') as f:\n",
    "    f.write('''\n",
    "import sympy\n",
    "\n",
    "# highest appearing values: Dk[{N_max_D}], Ak[{N_max_A}]\n",
    "\n",
    "N_max = {N_max}\n",
    "\n",
    "Dk = sympy.symbols('D_0:%d'%N_max)\n",
    "Ak = sympy.symbols('A_0:%d'%N_max)\n",
    "xDL = sympy.symbols('\\\\tilde{{x}}',real=True)\n",
    "epsilon = sympy.symbols('\\epsilon',real=True,nonnegative=True)\n",
    "\n",
    "Q_dict = {{}}\n",
    "\n",
    "'''.format(\n",
    "        N_max_D = N_max_D,\n",
    "        N_max_A = N_max_A,\n",
    "        N_max = N_max)\n",
    "    )\n",
    "    #\n",
    "    for i,expr in enumerate(exp_perturbation_coefficients_substituted):\n",
    "        f.write('Q_dict[{0}] = '.format(i))\n",
    "        f.write(hf.sympy_expression_to_string(expr))\n",
    "        f.write('\\n\\n')        \n",
    "    #"
   ]
  },
  {
   "cell_type": "markdown",
   "metadata": {},
   "source": [
    "## Moments"
   ]
  },
  {
   "cell_type": "markdown",
   "metadata": {},
   "source": [
    "In dimensionless units, the moments are defined by\n",
    "\n",
    "\\begin{align}\n",
    "\\langle \\tilde{x}^n \\rangle = \\sum_{k=0}^{\\infty} \\tilde{\\epsilon}^k \\langle \\tilde{x}^n \\rangle^{(k)},\n",
    "\\end{align}\n",
    "\n",
    "with \n",
    "\n",
    "\\begin{align}\n",
    "\\langle \\tilde{x}^n \\rangle^{(k)}\n",
    "&=\n",
    "\\int_{-\\infty}^{\\infty}d\\tilde{x}\\,\\tilde{x}^n Q_k(\\tilde{x}) \\tilde{P}^{(0)}(\\tilde{x}).\n",
    "\\end{align}"
   ]
  },
  {
   "cell_type": "markdown",
   "metadata": {},
   "source": [
    "We now calculate the $\\langle \\tilde{x}^n\\rangle^{(k)}$ using the NPP results from above"
   ]
  },
  {
   "cell_type": "code",
   "execution_count": 14,
   "metadata": {},
   "outputs": [
    {
     "name": "stdout",
     "output_type": "stream",
     "text": [
      "Calculating moments for <x^0>\n",
      "Calculating moments for <x^1>\n",
      "Calculating moments for <x^2>\n",
      "Calculating moments for <x^3>\n",
      "Calculating moments for <x^4>\n"
     ]
    }
   ],
   "source": [
    "moment_coefficients = {}\n",
    "\n",
    "max_moment = 4\n",
    "max_order= 8\n",
    "\n",
    "for n in range(max_moment+1):\n",
    "    #\n",
    "    print('Calculating moments for <x^{0}>'.format(n))\n",
    "    #\n",
    "    moment_coefficients[n] = []\n",
    "    #\n",
    "    for k in range(max_order+1):\n",
    "        #\n",
    "        # to enforce the assumption that Ds[0] is real and positive,\n",
    "        # we temporarily replace it by a dummy variable that is created\n",
    "        # with the assumption 'positive=True'\n",
    "        dummy_D0 = sp.symbols('D_0',real=True,positive=True)\n",
    "        integrand = sp.expand(list_of_Q[k]*x**n*P0)\n",
    "        integrand = integrand.subs(Ds[0],dummy_D0)\n",
    "        current_integral = sp.integrate(\n",
    "                                integrand,\n",
    "                                (x,-sp.oo,sp.oo)\n",
    "                                        )\n",
    "        # after the integral, we re-substitute Ds[0] for the dummy variable\n",
    "        current_integral = current_integral.subs(dummy_D0,Ds[0])\n",
    "        #\n",
    "        moment_coefficients[n].append(current_integral)"
   ]
  },
  {
   "cell_type": "code",
   "execution_count": 15,
   "metadata": {},
   "outputs": [
    {
     "data": {
      "text/latex": [
       "$\\displaystyle \\frac{A_{0}}{2}$"
      ],
      "text/plain": [
       "A_0/2"
      ]
     },
     "execution_count": 15,
     "metadata": {},
     "output_type": "execute_result"
    }
   ],
   "source": [
    "# moment_coefficients[i][j] = <\\tilde{x}^i>^{(j)}\n",
    "\n",
    "moment_coefficients[1][1] # first kramers moyal coefficient"
   ]
  },
  {
   "cell_type": "code",
   "execution_count": 16,
   "metadata": {},
   "outputs": [
    {
     "data": {
      "text/latex": [
       "$\\displaystyle \\frac{A_{0}^{2}}{4} + \\frac{A_{0} D_{1}}{4} + \\frac{A_{1}}{2} + \\frac{D_{2}}{2}$"
      ],
      "text/plain": [
       "A_0**2/4 + A_0*D_1/4 + A_1/2 + D_2/2"
      ]
     },
     "execution_count": 16,
     "metadata": {},
     "output_type": "execute_result"
    }
   ],
   "source": [
    "moment_coefficients[2][2] "
   ]
  },
  {
   "cell_type": "code",
   "execution_count": 17,
   "metadata": {},
   "outputs": [],
   "source": [
    "with open('moments.py','w') as f:\n",
    "    f.write('''\n",
    "import sympy\n",
    "\n",
    "N_max = {N_max}\n",
    "\n",
    "Dk = sympy.symbols('D_0:%d'%N_max)\n",
    "Ak = sympy.symbols('A_0:%d'%N_max)\n",
    "\n",
    "moments_dict = {{}}\n",
    "\n",
    "'''.format(N_max = N_max)\n",
    "    )\n",
    "    #\n",
    "    for i,moment_list in moment_coefficients.items():\n",
    "        #\n",
    "        f.write('moments_dict[{0}] = {{}}\\n\\n'.format(i))\n",
    "        #\n",
    "        for k, expr in enumerate(moment_list):\n",
    "            # expr = <x^i>^{(k)}\n",
    "            f.write('moments_dict[{0}][{1}] = '.format(i,k))\n",
    "            f.write(hf.sympy_expression_to_string(expr))\n",
    "            f.write('\\n\\n')\n",
    "        f.write('\\n\\n\\n')        \n",
    "    #"
   ]
  },
  {
   "cell_type": "code",
   "execution_count": null,
   "metadata": {},
   "outputs": [],
   "source": []
  }
 ],
 "metadata": {
  "kernelspec": {
   "display_name": "Python 3 (ipykernel)",
   "language": "python",
   "name": "python3"
  },
  "language_info": {
   "codemirror_mode": {
    "name": "ipython",
    "version": 3
   },
   "file_extension": ".py",
   "mimetype": "text/x-python",
   "name": "python",
   "nbconvert_exporter": "python",
   "pygments_lexer": "ipython3",
   "version": "3.10.8"
  }
 },
 "nbformat": 4,
 "nbformat_minor": 4
}
