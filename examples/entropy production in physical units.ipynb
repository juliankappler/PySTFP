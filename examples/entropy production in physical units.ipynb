{
 "cells": [
  {
   "cell_type": "markdown",
   "metadata": {},
   "source": [
    "# Introduction\n",
    "\n",
    "In this notebook, we print the leading-order short-time behavior of the medium entropy production rate, the total entropy production rate, and the Gibbs entropy.\n",
    "\n",
    "The expressions we print are Eqs. (D15), (D16), (D17) in the paper\n",
    "\"Short-time Fokker-Planck propagator beyond the Gaussian approximation\" (arXiv: http://arxiv.org/abs/2405.18381), which in the following\n",
    "we refer to as Ref. [1].\n",
    "\n",
    "For this, we first retrieve the dimensionless perturbative expressions from the module PySTFP, and then rewrite them in physical units.\n",
    "\n",
    "Note that in expressions we print in the following, we use the notation\n",
    "\n",
    "\\begin{align}\n",
    "a_n &\\equiv (\\partial_x^{n}a)(x_0),\n",
    "\\\\\n",
    "d_n &\\equiv (\\partial_x^{n}D)(x_0).\n",
    "\\end{align}"
   ]
  },
  {
   "cell_type": "code",
   "execution_count": 1,
   "metadata": {},
   "outputs": [],
   "source": [
    "import sympy as sp\n",
    "#from math import factorial \n",
    "from PySTFP import PySTFP"
   ]
  },
  {
   "cell_type": "code",
   "execution_count": 2,
   "metadata": {},
   "outputs": [],
   "source": [
    "from useful_definitions import *  # some useful definitions for \n",
    "# working with symbolic expressions"
   ]
  },
  {
   "cell_type": "code",
   "execution_count": 3,
   "metadata": {},
   "outputs": [],
   "source": [
    "p = PySTFP() # create instance of PySTFP"
   ]
  },
  {
   "cell_type": "markdown",
   "metadata": {},
   "source": [
    "## Medium entropy production rate"
   ]
  },
  {
   "cell_type": "code",
   "execution_count": 4,
   "metadata": {},
   "outputs": [],
   "source": [
    "dS_m_dt_terms_physical_dimensions = substitute_physical_dimensions(\n",
    "        remote_dictionary=p.dS_m_dt,\n",
    "        remote=p,\n",
    "            )\n",
    "\n",
    "for i,coeff in dS_m_dt_terms_physical_dimensions.items():\n",
    "    #\n",
    "    # we have to multiply by epsilon**i / tauD to retrieve the medium entropy\n",
    "    # production rate in physical units, c.f. Eq. (D8) in Ref. [1], and note\n",
    "    # that to obtain the term at order epsilon**i from the coefficient at that\n",
    "    # order, we need to multiply by epsilon**i.\n",
    "    dS_m_dt_terms_physical_dimensions[i] = coeff / tauD * epsilon**i"
   ]
  },
  {
   "cell_type": "code",
   "execution_count": 5,
   "metadata": {},
   "outputs": [
    {
     "data": {
      "text/latex": [
       "$\\displaystyle \\frac{a_{0}^{2}}{d_{0}} - \\frac{2 a_{0} d_{1}}{d_{0}} + a_{1} - d_{2} + \\frac{d_{1}^{2}}{d_{0}}$"
      ],
      "text/plain": [
       "a_0**2/d_0 - 2*a_0*d_1/d_0 + a_1 - d_2 + d_1**2/d_0"
      ]
     },
     "execution_count": 5,
     "metadata": {},
     "output_type": "execute_result"
    }
   ],
   "source": [
    "sp.expand(dS_m_dt_terms_physical_dimensions[0])"
   ]
  },
  {
   "cell_type": "markdown",
   "metadata": {},
   "source": [
    "This is the term from Eq. (D16). \n",
    "\n",
    "At order $\\sqrt{\\Delta t}$ there is no contribution:"
   ]
  },
  {
   "cell_type": "code",
   "execution_count": 6,
   "metadata": {},
   "outputs": [
    {
     "data": {
      "text/latex": [
       "$\\displaystyle 0$"
      ],
      "text/plain": [
       "0"
      ]
     },
     "execution_count": 6,
     "metadata": {},
     "output_type": "execute_result"
    }
   ],
   "source": [
    "sp.expand(dS_m_dt_terms_physical_dimensions[1])"
   ]
  },
  {
   "cell_type": "markdown",
   "metadata": {},
   "source": [
    "(Generally, at all odd powers of $\\sqrt{\\Delta t}$ that we calculated, there is no contribution.)\n",
    "\n",
    "The term at order $\\Delta t$ is already very lengthy:"
   ]
  },
  {
   "cell_type": "code",
   "execution_count": 7,
   "metadata": {},
   "outputs": [
    {
     "data": {
      "text/latex": [
       "$\\displaystyle - \\frac{\\Delta{t} a_{0}^{3} d_{1}}{d_{0}^{2}} + \\frac{2 \\Delta{t} a_{0}^{2} a_{1}}{d_{0}} - \\frac{3 \\Delta{t} a_{0}^{2} d_{2}}{d_{0}} + \\frac{4 \\Delta{t} a_{0}^{2} d_{1}^{2}}{d_{0}^{2}} - \\frac{6 \\Delta{t} a_{0} a_{1} d_{1}}{d_{0}} + 3 \\Delta{t} a_{0} a_{2} - 3 \\Delta{t} a_{0} d_{3} + \\frac{8 \\Delta{t} a_{0} d_{1} d_{2}}{d_{0}} - \\frac{5 \\Delta{t} a_{0} d_{1}^{3}}{d_{0}^{2}} + 2 \\Delta{t} a_{1}^{2} - 4 \\Delta{t} a_{1} d_{2} + \\frac{4 \\Delta{t} a_{1} d_{1}^{2}}{d_{0}} - 2 \\Delta{t} a_{2} d_{1} + \\Delta{t} a_{3} d_{0} - \\Delta{t} d_{0} d_{4} + 2 \\Delta{t} d_{1} d_{3} + 2 \\Delta{t} d_{2}^{2} - \\frac{5 \\Delta{t} d_{1}^{2} d_{2}}{d_{0}} + \\frac{2 \\Delta{t} d_{1}^{4}}{d_{0}^{2}}$"
      ],
      "text/plain": [
       "-\\Delta{t}*a_0**3*d_1/d_0**2 + 2*\\Delta{t}*a_0**2*a_1/d_0 - 3*\\Delta{t}*a_0**2*d_2/d_0 + 4*\\Delta{t}*a_0**2*d_1**2/d_0**2 - 6*\\Delta{t}*a_0*a_1*d_1/d_0 + 3*\\Delta{t}*a_0*a_2 - 3*\\Delta{t}*a_0*d_3 + 8*\\Delta{t}*a_0*d_1*d_2/d_0 - 5*\\Delta{t}*a_0*d_1**3/d_0**2 + 2*\\Delta{t}*a_1**2 - 4*\\Delta{t}*a_1*d_2 + 4*\\Delta{t}*a_1*d_1**2/d_0 - 2*\\Delta{t}*a_2*d_1 + \\Delta{t}*a_3*d_0 - \\Delta{t}*d_0*d_4 + 2*\\Delta{t}*d_1*d_3 + 2*\\Delta{t}*d_2**2 - 5*\\Delta{t}*d_1**2*d_2/d_0 + 2*\\Delta{t}*d_1**4/d_0**2"
      ]
     },
     "execution_count": 7,
     "metadata": {},
     "output_type": "execute_result"
    }
   ],
   "source": [
    "sp.expand(dS_m_dt_terms_physical_dimensions[2])"
   ]
  },
  {
   "cell_type": "markdown",
   "metadata": {},
   "source": [
    "## Total entropy production rate"
   ]
  },
  {
   "cell_type": "code",
   "execution_count": 8,
   "metadata": {},
   "outputs": [],
   "source": [
    "dS_tot_dt_terms_physical_dimensions = substitute_physical_dimensions(\n",
    "        remote_dictionary=p.dS_tot_dt,\n",
    "        remote=p,\n",
    "            )\n",
    "\n",
    "for i,coeff in dS_tot_dt_terms_physical_dimensions.items():\n",
    "    #\n",
    "    # we have to multiply by epsilon**(i-2) / tauD to retrieve the total\n",
    "    # entropy production rate in physical units, c.f. Eq. (D8) in Ref. [1], \n",
    "    # and note that \n",
    "    # - the total entropy production rate starts at order epsilon**(-2), and\n",
    "    # - to obtain the term at order epsilon**i from the coefficient at that\n",
    "    #   order, we need to multiply by epsilon**i\n",
    "    dS_tot_dt_terms_physical_dimensions[i] = coeff / tauD * epsilon**(i-2)"
   ]
  },
  {
   "cell_type": "code",
   "execution_count": 9,
   "metadata": {},
   "outputs": [
    {
     "data": {
      "text/latex": [
       "$\\displaystyle \\frac{1}{2 \\Delta{t}}$"
      ],
      "text/plain": [
       "1/(2*\\Delta{t})"
      ]
     },
     "execution_count": 9,
     "metadata": {},
     "output_type": "execute_result"
    }
   ],
   "source": [
    "dS_tot_dt_terms_physical_dimensions[0]"
   ]
  },
  {
   "cell_type": "markdown",
   "metadata": {},
   "source": [
    "This is the leading-order term in Eq. (D17) of Ref. [1].\n",
    "\n",
    "We also get the next-order term from Eq. (D17):"
   ]
  },
  {
   "cell_type": "code",
   "execution_count": 10,
   "metadata": {},
   "outputs": [
    {
     "data": {
      "text/latex": [
       "$\\displaystyle 0$"
      ],
      "text/plain": [
       "0"
      ]
     },
     "execution_count": 10,
     "metadata": {},
     "output_type": "execute_result"
    }
   ],
   "source": [
    "dS_tot_dt_terms_physical_dimensions[1]"
   ]
  },
  {
   "cell_type": "code",
   "execution_count": 11,
   "metadata": {},
   "outputs": [
    {
     "data": {
      "text/latex": [
       "$\\displaystyle \\frac{a_{0}^{2}}{d_{0}} - \\frac{7 a_{0} d_{1}}{4 d_{0}} + \\frac{3 a_{1}}{2} - \\frac{3 d_{2}}{4} + \\frac{5 d_{1}^{2}}{8 d_{0}}$"
      ],
      "text/plain": [
       "a_0**2/d_0 - 7*a_0*d_1/(4*d_0) + 3*a_1/2 - 3*d_2/4 + 5*d_1**2/(8*d_0)"
      ]
     },
     "execution_count": 11,
     "metadata": {},
     "output_type": "execute_result"
    }
   ],
   "source": [
    "sp.expand(dS_tot_dt_terms_physical_dimensions[2])"
   ]
  },
  {
   "cell_type": "code",
   "execution_count": 12,
   "metadata": {},
   "outputs": [
    {
     "data": {
      "text/latex": [
       "$\\displaystyle 0$"
      ],
      "text/plain": [
       "0"
      ]
     },
     "execution_count": 12,
     "metadata": {},
     "output_type": "execute_result"
    }
   ],
   "source": [
    "dS_tot_dt_terms_physical_dimensions[3]"
   ]
  },
  {
   "cell_type": "markdown",
   "metadata": {},
   "source": [
    "## Gibbs entropy"
   ]
  },
  {
   "cell_type": "code",
   "execution_count": 13,
   "metadata": {},
   "outputs": [],
   "source": [
    "S_Gibbs_terms_physical_dimensions = substitute_physical_dimensions(\n",
    "        remote_dictionary=p.S_Gibbs,\n",
    "        remote=p,\n",
    "            )\n",
    "\n",
    "for i,coeff in S_Gibbs_terms_physical_dimensions.items():\n",
    "    #\n",
    "    # we have to multiply by epsilon**i to retrieve the Gibbs entropy,\n",
    "    # c.f. Eq. (D15) in Ref. [1], and note that to obtain the term at order \n",
    "    # epsilon**i from the coefficient at that order, we need to multiply by \n",
    "    # epsilon**i\n",
    "    S_Gibbs_terms_physical_dimensions[i] = coeff * epsilon**i"
   ]
  },
  {
   "cell_type": "markdown",
   "metadata": {},
   "source": [
    "Here, we recover the leading-order terms from Eq. (D15):"
   ]
  },
  {
   "cell_type": "code",
   "execution_count": 14,
   "metadata": {},
   "outputs": [
    {
     "data": {
      "text/latex": [
       "$\\displaystyle \\frac{\\log{\\left(\\frac{4 \\pi \\Delta{t} d_{0}}{L^{2}} \\right)}}{2} + 0.5$"
      ],
      "text/plain": [
       "log(4*pi*\\Delta{t}*d_0/L**2)/2 + 0.5"
      ]
     },
     "execution_count": 14,
     "metadata": {},
     "output_type": "execute_result"
    }
   ],
   "source": [
    "S_Gibbs_terms_physical_dimensions[0]"
   ]
  },
  {
   "cell_type": "code",
   "execution_count": 15,
   "metadata": {},
   "outputs": [
    {
     "data": {
      "text/latex": [
       "$\\displaystyle 0$"
      ],
      "text/plain": [
       "0"
      ]
     },
     "execution_count": 15,
     "metadata": {},
     "output_type": "execute_result"
    }
   ],
   "source": [
    "S_Gibbs_terms_physical_dimensions[1]"
   ]
  },
  {
   "cell_type": "code",
   "execution_count": 16,
   "metadata": {},
   "outputs": [
    {
     "data": {
      "text/latex": [
       "$\\displaystyle \\frac{\\Delta{t} a_{0} d_{1}}{4 d_{0}} + \\frac{\\Delta{t} a_{1}}{2} + \\frac{\\Delta{t} d_{2}}{4} - \\frac{3 \\Delta{t} d_{1}^{2}}{8 d_{0}}$"
      ],
      "text/plain": [
       "\\Delta{t}*a_0*d_1/(4*d_0) + \\Delta{t}*a_1/2 + \\Delta{t}*d_2/4 - 3*\\Delta{t}*d_1**2/(8*d_0)"
      ]
     },
     "execution_count": 16,
     "metadata": {},
     "output_type": "execute_result"
    }
   ],
   "source": [
    "sp.expand(S_Gibbs_terms_physical_dimensions[2])"
   ]
  },
  {
   "cell_type": "code",
   "execution_count": null,
   "metadata": {},
   "outputs": [],
   "source": []
  }
 ],
 "metadata": {
  "kernelspec": {
   "display_name": "snowflake",
   "language": "python",
   "name": "python3"
  },
  "language_info": {
   "codemirror_mode": {
    "name": "ipython",
    "version": 3
   },
   "file_extension": ".py",
   "mimetype": "text/x-python",
   "name": "python",
   "nbconvert_exporter": "python",
   "pygments_lexer": "ipython3",
   "version": "3.10.8"
  }
 },
 "nbformat": 4,
 "nbformat_minor": 2
}
