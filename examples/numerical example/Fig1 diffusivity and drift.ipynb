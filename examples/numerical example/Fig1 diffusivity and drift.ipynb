{
 "cells": [
  {
   "cell_type": "code",
   "execution_count": null,
   "id": "195898ab",
   "metadata": {
    "ExecuteTime": {
     "end_time": "2022-07-11T17:09:49.115963Z",
     "start_time": "2022-07-11T17:09:46.150241Z"
    }
   },
   "outputs": [],
   "source": [
    "%reset -f\n",
    "%matplotlib inline\n",
    "import numpy as np\n",
    "import matplotlib.pyplot as plt\n",
    "import h5py"
   ]
  },
  {
   "cell_type": "code",
   "execution_count": null,
   "id": "8ebeffbd",
   "metadata": {
    "ExecuteTime": {
     "end_time": "2022-07-11T17:09:49.151773Z",
     "start_time": "2022-07-11T17:09:49.118437Z"
    }
   },
   "outputs": [],
   "source": [
    "import plot_settings as ps"
   ]
  },
  {
   "cell_type": "code",
   "execution_count": null,
   "id": "3fddd415",
   "metadata": {},
   "outputs": [],
   "source": [
    "# Load analytical results, which have been calculated using the notebook\n",
    "# analytical solution.ipynb\n",
    "\n",
    "analytical_solution = {}\n",
    "\n",
    "with h5py.File('analytical_solution.h5','r') as f:\n",
    "    #\n",
    "    for key in f.keys():\n",
    "        analytical_solution[key] = f[key][()]\n",
    "\n",
    "#analytical_dictionary.keys()"
   ]
  },
  {
   "cell_type": "code",
   "execution_count": null,
   "id": "e6934f6d",
   "metadata": {},
   "outputs": [],
   "source": [
    "xP = analytical_solution['xP']\n",
    "a_xP = analytical_solution['a_xP'][0]\n",
    "D_xP = analytical_solution['D_xP'][0]\n",
    "x0 = analytical_solution['x0']\n",
    "\n",
    "plot = [D_xP, a_xP]\n",
    "labels = [r'$D$',r'$a$']\n",
    "ylabels = [r'$D/(L^2/T)$',\n",
    "            r'$a/(L/T)$']\n",
    "\n",
    "fig,axes = plt.subplots(2,1,figsize=(6,6))\n",
    "fig.subplots_adjust(hspace=0.00001,wspace=0.6)\n",
    "\n",
    "dL = 1.5\n",
    "\n",
    "for i, ax in enumerate(axes):\n",
    "        ax.plot(xP,plot[i],\n",
    "            label=labels[i],\n",
    "            color='black')\n",
    "        ax.axvline(x0,\n",
    "            label=r'$x_0/L = ${0:3.1f}'.format(x0),\n",
    "            ls='--',\n",
    "            color='gray')\n",
    "        #\n",
    "        ax.set_xlim(x0 - dL,x0 + dL)\n",
    "        if i == 0:\n",
    "            ax.set_xticks([])\n",
    "        if i == 1:\n",
    "            ax.set_xlabel(r'$x/L$')\n",
    "        ax.set_ylabel(ylabels[i])\n",
    "        ax.legend(loc='best')\n",
    "\n",
    "\n",
    "\n",
    "# Add enumeration to the subplots \n",
    "enumeration = [ '(a)','(b)' ]\n",
    "for i,e in enumerate(enumeration):\n",
    "        ax = axes[i]\n",
    "        #\n",
    "        xlims = ax.get_xlim()\n",
    "        dx = xlims[1] - xlims[0]\n",
    "        ylims = ax.get_ylim()\n",
    "        dy = ylims[1] - ylims[0]\n",
    "        #\n",
    "        ax.text(-0.15,\n",
    "               .95,\n",
    "               e,\n",
    "     horizontalalignment='center',\n",
    "     verticalalignment='center',\n",
    "     transform = ax.transAxes,\n",
    "                fontsize=25)\n",
    "\n",
    "\n",
    "plt.show()\n",
    "fig.savefig('Fig1_diffusivity_and_drift.pdf',\n",
    "            bbox_inches='tight')\n",
    "plt.close(fig)\n"
   ]
  },
  {
   "cell_type": "code",
   "execution_count": null,
   "id": "0375eea8",
   "metadata": {},
   "outputs": [],
   "source": []
  }
 ],
 "metadata": {
  "kernelspec": {
   "display_name": "Python 3 (ipykernel)",
   "language": "python",
   "name": "python3"
  },
  "language_info": {
   "codemirror_mode": {
    "name": "ipython",
    "version": 3
   },
   "file_extension": ".py",
   "mimetype": "text/x-python",
   "name": "python",
   "nbconvert_exporter": "python",
   "pygments_lexer": "ipython3",
   "version": "3.10.8"
  }
 },
 "nbformat": 4,
 "nbformat_minor": 5
}
