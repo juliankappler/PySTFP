{
 "cells": [
  {
   "cell_type": "markdown",
   "metadata": {},
   "source": [
    "## Introduction\n",
    "\n",
    "In this notebook, we print the leading-order short-time behavior of the propagator\n",
    "in physical units.\n",
    "We consider both the normalization-preserving- and the positivity-preserving\n",
    "propagator.\n",
    "\n",
    "The expressions we print reproduce the results from App. B of the paper\n",
    "\"Short-time Fokker-Planck propagator beyond the Gaussian approximation\" (arXiv: http://arxiv.org/abs/2405.18381), which in the following\n",
    "we refer to as Ref. [1].\n",
    "\n",
    "In the following, we first retrieve the dimensionless perturbative expressions \n",
    "from the module PySTFP, and then rewrite them in physical units.\n",
    "\n",
    "Note that in expressions we print in the following, we use the notation\n",
    "\n",
    "\\begin{align}\n",
    "a_n &\\equiv (\\partial_x^{n}a)(x_0),\n",
    "\\\\\n",
    "d_n &\\equiv (\\partial_x^{n}D)(x_0).\n",
    "\\end{align}"
   ]
  },
  {
   "cell_type": "code",
   "execution_count": 1,
   "metadata": {},
   "outputs": [],
   "source": [
    "import sympy as sp\n",
    "from PySTFP import PySTFP"
   ]
  },
  {
   "cell_type": "code",
   "execution_count": 2,
   "metadata": {},
   "outputs": [],
   "source": [
    "from useful_definitions import *  # some useful definitions for \n",
    "# working with symbolic expressions"
   ]
  },
  {
   "cell_type": "code",
   "execution_count": 3,
   "metadata": {},
   "outputs": [],
   "source": [
    "p = PySTFP() # create instance of PySTFP"
   ]
  },
  {
   "cell_type": "markdown",
   "metadata": {},
   "source": [
    "## Free-diffusion propagator"
   ]
  },
  {
   "cell_type": "code",
   "execution_count": 4,
   "metadata": {},
   "outputs": [
    {
     "data": {
      "text/latex": [
       "$\\displaystyle \\frac{e^{- \\frac{\\Delta{x}^{2}}{4 \\Delta{t} d_{0}}}}{2 \\sqrt{\\pi} \\sqrt{\\Delta{t}} \\sqrt{d_{0}}}$"
      ],
      "text/plain": [
       "exp(-\\Delta{x}**2/(4*\\Delta{t}*d_0))/(2*sqrt(pi)*sqrt(\\Delta{t})*sqrt(d_0))"
      ]
     },
     "execution_count": 4,
     "metadata": {},
     "output_type": "execute_result"
    }
   ],
   "source": [
    "P0 = substitute_local_variables_in_expr(expr=p.P0,\n",
    "                                    remote=p)\n",
    "\n",
    "P0 = substitute_physical_dimensions_in_expr(expr=P0)/R\n",
    "\n",
    "P0"
   ]
  },
  {
   "cell_type": "code",
   "execution_count": 5,
   "metadata": {},
   "outputs": [
    {
     "data": {
      "text/latex": [
       "$\\displaystyle 1$"
      ],
      "text/plain": [
       "1"
      ]
     },
     "execution_count": 5,
     "metadata": {},
     "output_type": "execute_result"
    }
   ],
   "source": [
    "# We check the normalization:\n",
    "sp.integrate(P0,(dx,-sp.oo,sp.oo))"
   ]
  },
  {
   "cell_type": "markdown",
   "metadata": {},
   "source": [
    "## Normalization-preserving propagator"
   ]
  },
  {
   "cell_type": "code",
   "execution_count": 6,
   "metadata": {},
   "outputs": [],
   "source": [
    "NPP_coefficients_in_physical_dimensions = substitute_physical_dimensions(\n",
    "        remote_dictionary=p.Q_dict,\n",
    "        remote=p,\n",
    "            )\n",
    "\n",
    "for i,coeff in NPP_coefficients_in_physical_dimensions.items():\n",
    "    #\n",
    "    # we have to multiply by epsilon**i / tauD to retrieve the medium entropy\n",
    "    # production rate in physical units, c.f. Eq. (D8) in Ref. [1], and note\n",
    "    # that to obtain the term at order epsilon**i from the coefficient at that\n",
    "    # order, we need to multiply by epsilon**i.\n",
    "    NPP_coefficients_in_physical_dimensions[i] = coeff * epsilon**i"
   ]
  },
  {
   "cell_type": "code",
   "execution_count": 7,
   "metadata": {},
   "outputs": [
    {
     "data": {
      "text/latex": [
       "$\\displaystyle 1$"
      ],
      "text/plain": [
       "1"
      ]
     },
     "execution_count": 7,
     "metadata": {},
     "output_type": "execute_result"
    }
   ],
   "source": [
    "# at order \\sqrt{dt}^0\n",
    "NPP_coefficients_in_physical_dimensions[0]"
   ]
  },
  {
   "cell_type": "code",
   "execution_count": 8,
   "metadata": {},
   "outputs": [
    {
     "data": {
      "text/latex": [
       "$\\displaystyle \\frac{\\Delta{x} a_{0}}{2 d_{0}} - \\frac{3 \\Delta{x} d_{1}}{4 d_{0}} + \\frac{\\Delta{x}^{3} d_{1}}{8 \\Delta{t} d_{0}^{2}}$"
      ],
      "text/plain": [
       "\\Delta{x}*a_0/(2*d_0) - 3*\\Delta{x}*d_1/(4*d_0) + \\Delta{x}**3*d_1/(8*\\Delta{t}*d_0**2)"
      ]
     },
     "execution_count": 8,
     "metadata": {},
     "output_type": "execute_result"
    }
   ],
   "source": [
    "# at order \\sqrt{dt}^1\n",
    "sp.expand(NPP_coefficients_in_physical_dimensions[1])"
   ]
  },
  {
   "cell_type": "code",
   "execution_count": 9,
   "metadata": {},
   "outputs": [
    {
     "data": {
      "text/latex": [
       "$\\displaystyle - \\frac{\\Delta{t} a_{0}^{2}}{4 d_{0}} + \\frac{\\Delta{t} a_{0} d_{1}}{2 d_{0}} - \\frac{\\Delta{t} a_{1}}{2} + \\frac{\\Delta{t} d_{2}}{4} - \\frac{3 \\Delta{t} d_{1}^{2}}{16 d_{0}} + \\frac{\\Delta{x}^{2} a_{0}^{2}}{8 d_{0}^{2}} - \\frac{5 \\Delta{x}^{2} a_{0} d_{1}}{8 d_{0}^{2}} + \\frac{\\Delta{x}^{2} a_{1}}{4 d_{0}} - \\frac{3 \\Delta{x}^{2} d_{2}}{8 d_{0}} + \\frac{21 \\Delta{x}^{2} d_{1}^{2}}{32 d_{0}^{2}} + \\frac{\\Delta{x}^{4} a_{0} d_{1}}{16 \\Delta{t} d_{0}^{3}} + \\frac{\\Delta{x}^{4} d_{2}}{24 \\Delta{t} d_{0}^{2}} - \\frac{11 \\Delta{x}^{4} d_{1}^{2}}{64 \\Delta{t} d_{0}^{3}} + \\frac{\\Delta{x}^{6} d_{1}^{2}}{128 \\Delta{t}^{2} d_{0}^{4}}$"
      ],
      "text/plain": [
       "-\\Delta{t}*a_0**2/(4*d_0) + \\Delta{t}*a_0*d_1/(2*d_0) - \\Delta{t}*a_1/2 + \\Delta{t}*d_2/4 - 3*\\Delta{t}*d_1**2/(16*d_0) + \\Delta{x}**2*a_0**2/(8*d_0**2) - 5*\\Delta{x}**2*a_0*d_1/(8*d_0**2) + \\Delta{x}**2*a_1/(4*d_0) - 3*\\Delta{x}**2*d_2/(8*d_0) + 21*\\Delta{x}**2*d_1**2/(32*d_0**2) + \\Delta{x}**4*a_0*d_1/(16*\\Delta{t}*d_0**3) + \\Delta{x}**4*d_2/(24*\\Delta{t}*d_0**2) - 11*\\Delta{x}**4*d_1**2/(64*\\Delta{t}*d_0**3) + \\Delta{x}**6*d_1**2/(128*\\Delta{t}**2*d_0**4)"
      ]
     },
     "execution_count": 9,
     "metadata": {},
     "output_type": "execute_result"
    }
   ],
   "source": [
    "# at order \\sqrt{dt}^2\n",
    "sp.expand(NPP_coefficients_in_physical_dimensions[2])"
   ]
  },
  {
   "cell_type": "markdown",
   "metadata": {},
   "source": [
    "Noting the definition $\\tilde{x} = \\Delta x/R$, and that we have the factor $1/\\sqrt{ 2 D(x_0)\\Delta t}$ included in $P_0$ above, we see that the formulas above reproduce Eqs. (B2), (B3), (B4) from Ref. [1]."
   ]
  },
  {
   "cell_type": "markdown",
   "metadata": {},
   "source": [
    "## Positivity-preserving propagator"
   ]
  },
  {
   "cell_type": "code",
   "execution_count": 10,
   "metadata": {},
   "outputs": [],
   "source": [
    "PPP_coefficients_in_physical_dimensions = substitute_physical_dimensions(\n",
    "        remote_dictionary=p.Q_dict_ppp, # These are the terms in the exponent \n",
    "        # in Eq. (41), but without the free-diffusion part -\\tilde{x}^2/2\n",
    "        remote=p,\n",
    "            )\n",
    "\n",
    "for i,coeff in PPP_coefficients_in_physical_dimensions.items():\n",
    "    #\n",
    "    # we have to multiply by epsilon**i / tauD to retrieve the medium entropy\n",
    "    # production rate in physical units, c.f. Eq. (D8) in Ref. [1], and note\n",
    "    # that to obtain the term at order epsilon**i from the coefficient at that\n",
    "    # order, we need to multiply by epsilon**i.\n",
    "    PPP_coefficients_in_physical_dimensions[i] = coeff * epsilon**i"
   ]
  },
  {
   "cell_type": "code",
   "execution_count": 11,
   "metadata": {},
   "outputs": [
    {
     "data": {
      "text/latex": [
       "$\\displaystyle 0$"
      ],
      "text/plain": [
       "0"
      ]
     },
     "execution_count": 11,
     "metadata": {},
     "output_type": "execute_result"
    }
   ],
   "source": [
    "PPP_coefficients_in_physical_dimensions[0]"
   ]
  },
  {
   "cell_type": "code",
   "execution_count": 12,
   "metadata": {},
   "outputs": [
    {
     "data": {
      "text/latex": [
       "$\\displaystyle \\frac{\\Delta{x} a_{0}}{2 d_{0}} - \\frac{3 \\Delta{x} d_{1}}{4 d_{0}} + \\frac{\\Delta{x}^{3} d_{1}}{8 \\Delta{t} d_{0}^{2}}$"
      ],
      "text/plain": [
       "\\Delta{x}*a_0/(2*d_0) - 3*\\Delta{x}*d_1/(4*d_0) + \\Delta{x}**3*d_1/(8*\\Delta{t}*d_0**2)"
      ]
     },
     "execution_count": 12,
     "metadata": {},
     "output_type": "execute_result"
    }
   ],
   "source": [
    "sp.expand(PPP_coefficients_in_physical_dimensions[1])"
   ]
  },
  {
   "cell_type": "code",
   "execution_count": 13,
   "metadata": {},
   "outputs": [
    {
     "data": {
      "text/latex": [
       "$\\displaystyle - \\frac{\\Delta{t} a_{0}^{2}}{4 d_{0}} + \\frac{\\Delta{t} a_{0} d_{1}}{2 d_{0}} - \\frac{\\Delta{t} a_{1}}{2} + \\frac{\\Delta{t} d_{2}}{4} - \\frac{3 \\Delta{t} d_{1}^{2}}{16 d_{0}} - \\frac{\\Delta{x}^{2} a_{0} d_{1}}{4 d_{0}^{2}} + \\frac{\\Delta{x}^{2} a_{1}}{4 d_{0}} - \\frac{3 \\Delta{x}^{2} d_{2}}{8 d_{0}} + \\frac{3 \\Delta{x}^{2} d_{1}^{2}}{8 d_{0}^{2}} + \\frac{\\Delta{x}^{4} d_{2}}{24 \\Delta{t} d_{0}^{2}} - \\frac{5 \\Delta{x}^{4} d_{1}^{2}}{64 \\Delta{t} d_{0}^{3}}$"
      ],
      "text/plain": [
       "-\\Delta{t}*a_0**2/(4*d_0) + \\Delta{t}*a_0*d_1/(2*d_0) - \\Delta{t}*a_1/2 + \\Delta{t}*d_2/4 - 3*\\Delta{t}*d_1**2/(16*d_0) - \\Delta{x}**2*a_0*d_1/(4*d_0**2) + \\Delta{x}**2*a_1/(4*d_0) - 3*\\Delta{x}**2*d_2/(8*d_0) + 3*\\Delta{x}**2*d_1**2/(8*d_0**2) + \\Delta{x}**4*d_2/(24*\\Delta{t}*d_0**2) - 5*\\Delta{x}**4*d_1**2/(64*\\Delta{t}*d_0**3)"
      ]
     },
     "execution_count": 13,
     "metadata": {},
     "output_type": "execute_result"
    }
   ],
   "source": [
    "sp.expand(PPP_coefficients_in_physical_dimensions[2])"
   ]
  },
  {
   "cell_type": "markdown",
   "metadata": {},
   "source": [
    "Modulo the free-diffusion term $\\Delta x^2/(4 D(x_0) \\Delta t)$,\n",
    "the 14 terms in the three cells above are precisely the terms that emerge when\n",
    "adding Eqs. (B7), (B8), (B9), and expanding the square in Eq. (B7):"
   ]
  },
  {
   "cell_type": "code",
   "execution_count": 14,
   "metadata": {},
   "outputs": [],
   "source": [
    "L = PPP_coefficients_in_physical_dimensions[0] \\\n",
    "    + PPP_coefficients_in_physical_dimensions[1] \\\n",
    "    + PPP_coefficients_in_physical_dimensions[2] \\\n",
    "    + dx**2/(4*dD[0]*dt)\n",
    "L = sp.expand(L)"
   ]
  },
  {
   "cell_type": "code",
   "execution_count": 15,
   "metadata": {},
   "outputs": [
    {
     "data": {
      "text/latex": [
       "$\\displaystyle - \\frac{\\Delta{t} a_{0}^{2}}{4 d_{0}} + \\frac{\\Delta{t} a_{0} d_{1}}{2 d_{0}} - \\frac{\\Delta{t} a_{1}}{2} + \\frac{\\Delta{t} d_{2}}{4} - \\frac{3 \\Delta{t} d_{1}^{2}}{16 d_{0}} - \\frac{\\Delta{x}^{2} a_{0} d_{1}}{4 d_{0}^{2}} + \\frac{\\Delta{x}^{2} a_{1}}{4 d_{0}} - \\frac{3 \\Delta{x}^{2} d_{2}}{8 d_{0}} + \\frac{3 \\Delta{x}^{2} d_{1}^{2}}{8 d_{0}^{2}} + \\frac{\\Delta{x} a_{0}}{2 d_{0}} - \\frac{3 \\Delta{x} d_{1}}{4 d_{0}} + \\frac{\\Delta{x}^{4} d_{2}}{24 \\Delta{t} d_{0}^{2}} - \\frac{5 \\Delta{x}^{4} d_{1}^{2}}{64 \\Delta{t} d_{0}^{3}} + \\frac{\\Delta{x}^{3} d_{1}}{8 \\Delta{t} d_{0}^{2}} + \\frac{\\Delta{x}^{2}}{4 \\Delta{t} d_{0}}$"
      ],
      "text/plain": [
       "-\\Delta{t}*a_0**2/(4*d_0) + \\Delta{t}*a_0*d_1/(2*d_0) - \\Delta{t}*a_1/2 + \\Delta{t}*d_2/4 - 3*\\Delta{t}*d_1**2/(16*d_0) - \\Delta{x}**2*a_0*d_1/(4*d_0**2) + \\Delta{x}**2*a_1/(4*d_0) - 3*\\Delta{x}**2*d_2/(8*d_0) + 3*\\Delta{x}**2*d_1**2/(8*d_0**2) + \\Delta{x}*a_0/(2*d_0) - 3*\\Delta{x}*d_1/(4*d_0) + \\Delta{x}**4*d_2/(24*\\Delta{t}*d_0**2) - 5*\\Delta{x}**4*d_1**2/(64*\\Delta{t}*d_0**3) + \\Delta{x}**3*d_1/(8*\\Delta{t}*d_0**2) + \\Delta{x}**2/(4*\\Delta{t}*d_0)"
      ]
     },
     "execution_count": 15,
     "metadata": {},
     "output_type": "execute_result"
    }
   ],
   "source": [
    "L"
   ]
  },
  {
   "cell_type": "markdown",
   "metadata": {},
   "source": [
    "In the special case of additive noise, all derivatives of $D$ vanish, and we recover Eq. (B10):"
   ]
  },
  {
   "cell_type": "code",
   "execution_count": 16,
   "metadata": {},
   "outputs": [
    {
     "data": {
      "text/latex": [
       "$\\displaystyle - \\frac{\\Delta{t} a_{0}^{2}}{4 d_{0}} - \\frac{\\Delta{t} a_{1}}{2} + \\frac{\\Delta{x}^{2} a_{1}}{4 d_{0}} + \\frac{\\Delta{x} a_{0}}{2 d_{0}} + \\frac{\\Delta{x}^{2}}{4 \\Delta{t} d_{0}}$"
      ],
      "text/plain": [
       "-\\Delta{t}*a_0**2/(4*d_0) - \\Delta{t}*a_1/2 + \\Delta{x}**2*a_1/(4*d_0) + \\Delta{x}*a_0/(2*d_0) + \\Delta{x}**2/(4*\\Delta{t}*d_0)"
      ]
     },
     "execution_count": 16,
     "metadata": {},
     "output_type": "execute_result"
    }
   ],
   "source": [
    "L_additive_noise = L\n",
    "\n",
    "for i, d in enumerate(dD):\n",
    "    if i > 0:\n",
    "        L_additive_noise = L_additive_noise.subs(d,0)\n",
    "\n",
    "L_additive_noise"
   ]
  }
 ],
 "metadata": {
  "kernelspec": {
   "display_name": "snowflake",
   "language": "python",
   "name": "python3"
  },
  "language_info": {
   "codemirror_mode": {
    "name": "ipython",
    "version": 3
   },
   "file_extension": ".py",
   "mimetype": "text/x-python",
   "name": "python",
   "nbconvert_exporter": "python",
   "pygments_lexer": "ipython3",
   "version": "3.10.8"
  }
 },
 "nbformat": 4,
 "nbformat_minor": 2
}
